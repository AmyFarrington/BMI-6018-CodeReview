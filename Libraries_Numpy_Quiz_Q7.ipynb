{
 "cells": [
  {
   "cell_type": "markdown",
   "id": "69af04ed",
   "metadata": {},
   "source": [
    "Let us create an np vector as:\n",
    "x = np.array ([[1,2,3,4,5,6],[7,8,9,10,11,12]])\n",
    "\n",
    "And then we do following x[1,::2].\n",
    "\n",
    "What is that :: operator doing?\n",
    "\n",
    "What would it output?\n",
    "\n",
    "Answers:\n",
    "\n",
    "[10,11,12]. It subsets for the 1th x dimension, then gives everything after the 2nd indexed element in the 1th vector. \n",
    "\n",
    "[7,9,11]. It subsets for the 1th x dim, then produces EVERY OTHER value in that vectors elements. \n",
    "  \n",
    "[7,8,9]. It subsets for the 1th x dim, then produces everything UP TO the 2nd element indexed in the vector."
   ]
  },
  {
   "cell_type": "code",
   "execution_count": 1,
   "id": "a72ab3dc",
   "metadata": {},
   "outputs": [],
   "source": [
    "import numpy as np"
   ]
  },
  {
   "cell_type": "code",
   "execution_count": 16,
   "id": "d73840b2",
   "metadata": {},
   "outputs": [
    {
     "data": {
      "text/plain": [
       "array([[ 1,  2,  3,  4,  5,  6],\n",
       "       [ 7,  8,  9, 10, 11, 12]])"
      ]
     },
     "execution_count": 16,
     "metadata": {},
     "output_type": "execute_result"
    }
   ],
   "source": [
    "x = np.array([[1,2,3,4,5,6],[7,8,9,10,11,12]])\n",
    "x #Display the 2 dimensional array x"
   ]
  },
  {
   "cell_type": "code",
   "execution_count": 9,
   "id": "042c9ae0",
   "metadata": {},
   "outputs": [
    {
     "data": {
      "text/plain": [
       "array([ 7,  8,  9, 10, 11, 12])"
      ]
     },
     "execution_count": 9,
     "metadata": {},
     "output_type": "execute_result"
    }
   ],
   "source": [
    "x[1] #subsets for the second element in the array (index 1)"
   ]
  },
  {
   "cell_type": "code",
   "execution_count": 12,
   "id": "2f46c884",
   "metadata": {},
   "outputs": [
    {
     "data": {
      "text/plain": [
       "array([ 7,  9, 11])"
      ]
     },
     "execution_count": 12,
     "metadata": {},
     "output_type": "execute_result"
    }
   ],
   "source": [
    "x[1,::2] #[start:end:step] Start at beginning, end at end, select every second element"
   ]
  },
  {
   "cell_type": "code",
   "execution_count": null,
   "id": "19e0ae8b",
   "metadata": {},
   "outputs": [],
   "source": []
  }
 ],
 "metadata": {
  "kernelspec": {
   "display_name": "Python 3 (ipykernel)",
   "language": "python",
   "name": "python3"
  },
  "language_info": {
   "codemirror_mode": {
    "name": "ipython",
    "version": 3
   },
   "file_extension": ".py",
   "mimetype": "text/x-python",
   "name": "python",
   "nbconvert_exporter": "python",
   "pygments_lexer": "ipython3",
   "version": "3.9.12"
  }
 },
 "nbformat": 4,
 "nbformat_minor": 5
}
