{
 "cells": [
  {
   "cell_type": "code",
   "execution_count": 1,
   "id": "8d5343a0-61ef-4456-9026-7852dc1024a3",
   "metadata": {},
   "outputs": [
    {
     "name": "stdout",
     "output_type": "stream",
     "text": [
      "This character is in index 0 : E\n",
      "This character is in index 1 : .\n",
      "This character is in index 2 :  \n",
      "This character is in index 3 : C\n",
      "This character is in index 4 : o\n",
      "This character is in index 5 : l\n",
      "This character is in index 6 : i\n"
     ]
    }
   ],
   "source": [
    "#Quiz: Simple Data Types\n",
    "#Question Five:\n",
    "\n",
    "string = \"E. Coli\"\n",
    "\n",
    "#string[2]=\n",
    "\n",
    "\n",
    "#Possible Answers:\n",
    "#  \".\" \n",
    "#  \"C\" \n",
    "# \" \" \n",
    "\n",
    "for index, character in enumerate(string):\n",
    "    print (\"This character is in index\", index, \":\", character)"
   ]
  },
  {
   "cell_type": "code",
   "execution_count": null,
   "id": "d5e75706-17ff-43bd-b76d-f64a507880cd",
   "metadata": {},
   "outputs": [],
   "source": []
  }
 ],
 "metadata": {
  "kernelspec": {
   "display_name": "Python 3 (ipykernel)",
   "language": "python",
   "name": "python3"
  },
  "language_info": {
   "codemirror_mode": {
    "name": "ipython",
    "version": 3
   },
   "file_extension": ".py",
   "mimetype": "text/x-python",
   "name": "python",
   "nbconvert_exporter": "python",
   "pygments_lexer": "ipython3",
   "version": "3.9.12"
  }
 },
 "nbformat": 4,
 "nbformat_minor": 5
}
